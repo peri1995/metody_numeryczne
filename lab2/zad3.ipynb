{
 "cells": [
  {
   "cell_type": "code",
   "execution_count": 17,
   "metadata": {},
   "outputs": [
    {
     "name": "stdout",
     "output_type": "stream",
     "text": [
      "Podaj dzielna: 6\n",
      "Podaj dzielnik: 2\n",
      "Podzielne\n"
     ]
    }
   ],
   "source": [
    "def dzielenie():\n",
    "    try:\n",
    "        x = float(input('Podaj dzielna: '))\n",
    "        y = float(input('Podaj dzielnik: '))\n",
    "        if y == 0:\n",
    "            print('Nie dzielimy przez 0!')\n",
    "        else:\n",
    "            komunikat = 'Podzielne' if x%y == 0 else 'Niepodzielne'\n",
    "            print(komunikat)\n",
    "    except ValueError:\n",
    "        print('Podano znak')\n",
    "       \n",
    "dzielenie()"
   ]
  },
  {
   "cell_type": "code",
   "execution_count": 13,
   "metadata": {},
   "outputs": [
    {
     "name": "stdout",
     "output_type": "stream",
     "text": [
      "X jest niepodzielne przez Y(reszta z dzielenia)\n",
      "X/Y: 1.53125\n",
      "X/Y: 1.53\n"
     ]
    }
   ],
   "source": []
  },
  {
   "cell_type": "code",
   "execution_count": null,
   "metadata": {},
   "outputs": [],
   "source": []
  }
 ],
 "metadata": {
  "kernelspec": {
   "display_name": "Python 3",
   "language": "python",
   "name": "python3"
  },
  "language_info": {
   "codemirror_mode": {
    "name": "ipython",
    "version": 3
   },
   "file_extension": ".py",
   "mimetype": "text/x-python",
   "name": "python",
   "nbconvert_exporter": "python",
   "pygments_lexer": "ipython3",
   "version": "3.7.1"
  }
 },
 "nbformat": 4,
 "nbformat_minor": 2
}
