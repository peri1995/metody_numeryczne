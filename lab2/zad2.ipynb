{
 "cells": [
  {
   "cell_type": "code",
   "execution_count": 37,
   "metadata": {},
   "outputs": [
    {
     "name": "stdout",
     "output_type": "stream",
     "text": [
      "Podaj dzielna: 0\n",
      "Podaj dzielnik: -1.5\n",
      "Nieparzyste lub niepodzielne\n"
     ]
    }
   ],
   "source": [
    "def dzielenie():\n",
    "    try:\n",
    "        x = float(input('Podaj dzielna: '))\n",
    "        y = float(input('Podaj dzielnik: '))\n",
    "        if y == 0:\n",
    "            print('Nie dzielimy przez 0!')\n",
    "        else:\n",
    "            xiseven = x % 2 == 0\n",
    "            yiseven = y % 2 == 0\n",
    "            dzielenie1 = x % y == 0\n",
    "            komunikat = 'Podzielne i obie parzyste' if xiseven and yiseven and dzielenie1 else 'Nieparzyste lub niepodzielne'\n",
    "            print(komunikat)\n",
    "    except ValueError:\n",
    "        print('Podano znak')\n",
    "       \n",
    "dzielenie()"
   ]
  },
  {
   "cell_type": "code",
   "execution_count": 34,
   "metadata": {},
   "outputs": [
    {
     "name": "stdout",
     "output_type": "stream",
     "text": [
      "Podaj x: -1\n",
      "Podaj y: 1\n",
      "Nieparzyste lub niepodzielne\n"
     ]
    }
   ],
   "source": []
  },
  {
   "cell_type": "code",
   "execution_count": null,
   "metadata": {},
   "outputs": [],
   "source": []
  }
 ],
 "metadata": {
  "kernelspec": {
   "display_name": "Python 3",
   "language": "python",
   "name": "python3"
  },
  "language_info": {
   "codemirror_mode": {
    "name": "ipython",
    "version": 3
   },
   "file_extension": ".py",
   "mimetype": "text/x-python",
   "name": "python",
   "nbconvert_exporter": "python",
   "pygments_lexer": "ipython3",
   "version": "3.7.1"
  }
 },
 "nbformat": 4,
 "nbformat_minor": 2
}
