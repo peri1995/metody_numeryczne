{
 "cells": [
  {
   "cell_type": "code",
   "execution_count": 3,
   "metadata": {},
   "outputs": [
    {
     "name": "stdout",
     "output_type": "stream",
     "text": [
      "Podaj x: 6\n",
      "Podaj y: 2\n",
      "Podzielne i obie parzyste\n"
     ]
    }
   ],
   "source": [
    "x = int(input('Podaj x: '))\n",
    "y = int(input('Podaj y: '))\n",
    "\n",
    "xiseven = x % 2 == 0\n",
    "yiseven = y % 2 == 0\n",
    "dzielenie = x % y == 0\n",
    "\n",
    "komunikat = 'Podzielne i obie parzyste' if xiseven and yiseven and dzielenie else 'Nieparzyste lub niepodzielne'\n",
    "print(komunikat)"
   ]
  },
  {
   "cell_type": "code",
   "execution_count": null,
   "metadata": {},
   "outputs": [],
   "source": []
  }
 ],
 "metadata": {
  "kernelspec": {
   "display_name": "Python 3",
   "language": "python",
   "name": "python3"
  },
  "language_info": {
   "codemirror_mode": {
    "name": "ipython",
    "version": 3
   },
   "file_extension": ".py",
   "mimetype": "text/x-python",
   "name": "python",
   "nbconvert_exporter": "python",
   "pygments_lexer": "ipython3",
   "version": "3.7.1"
  }
 },
 "nbformat": 4,
 "nbformat_minor": 2
}
