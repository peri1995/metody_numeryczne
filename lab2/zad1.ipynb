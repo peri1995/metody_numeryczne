{
 "cells": [
  {
   "cell_type": "code",
   "execution_count": 1,
   "metadata": {},
   "outputs": [],
   "source": [
    "from math import pi"
   ]
  },
  {
   "cell_type": "code",
   "execution_count": 40,
   "metadata": {},
   "outputs": [
    {
     "name": "stdout",
     "output_type": "stream",
     "text": [
      "Podaj pierwszy promien: 6\n",
      "Obwod pierwszego okregu: 37.69911184307752\n",
      "Pole pierwszego okregu: 113.09733552923255\n",
      "Podaj drugi promien: i\n",
      "Podano znak\n"
     ]
    }
   ],
   "source": [
    "from math import pi\n",
    "\n",
    "def pierwszy():\n",
    "    try:\n",
    "        x = float(input('Podaj pierwszy promien: '))\n",
    "        if x < 0:\n",
    "            print('Podano ujemna')\n",
    "        else:\n",
    "            obwodx = print(f'Obwod pierwszego okregu: {2*pi*x}')\n",
    "            polex = print(f'Pole pierwszego okregu: {pi*(x**2)}')\n",
    "    except ValueError:\n",
    "        print('Podano znak')       \n",
    "\n",
    "def drugi():\n",
    "    try:\n",
    "        y = float(input('Podaj drugi promien: '))\n",
    "        if y < 0:\n",
    "            print('Podano ujemna')\n",
    "        else:\n",
    "            obwody = print(f'Obwod pierwszego okregu: {2*pi*y}')\n",
    "            poley = print(f'Pole pierwszego okregu: {pi*(y**2)}')\n",
    "    except ValueError:\n",
    "        print('Podano znak')          \n",
    "        \n",
    "pierwszy()\n",
    "drugi()"
   ]
  },
  {
   "cell_type": "code",
   "execution_count": 39,
   "metadata": {},
   "outputs": [
    {
     "name": "stdout",
     "output_type": "stream",
     "text": [
      "Podaj pierwszy promien: 1.5\n",
      "Obwod pierwszego okregu: 9.42477796076938\n",
      "Pole pierwszego okregu: 7.0685834705770345\n"
     ]
    }
   ],
   "source": []
  },
  {
   "cell_type": "code",
   "execution_count": null,
   "metadata": {},
   "outputs": [],
   "source": []
  }
 ],
 "metadata": {
  "kernelspec": {
   "display_name": "Python 3",
   "language": "python",
   "name": "python3"
  },
  "language_info": {
   "codemirror_mode": {
    "name": "ipython",
    "version": 3
   },
   "file_extension": ".py",
   "mimetype": "text/x-python",
   "name": "python",
   "nbconvert_exporter": "python",
   "pygments_lexer": "ipython3",
   "version": "3.7.1"
  }
 },
 "nbformat": 4,
 "nbformat_minor": 2
}
