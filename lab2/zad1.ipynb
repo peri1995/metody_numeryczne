{
 "cells": [
  {
   "cell_type": "code",
   "execution_count": 1,
   "metadata": {},
   "outputs": [],
   "source": [
    "from math import pi"
   ]
  },
  {
   "cell_type": "code",
   "execution_count": 2,
   "metadata": {},
   "outputs": [
    {
     "name": "stdout",
     "output_type": "stream",
     "text": [
      "Podaj promien pierwszego okregu: 7\n",
      "Podaj promien drugiego okregu: 4\n",
      "Obwod pierwszego okregu: 43.982297150257104\n",
      "Obwod drugiego okregu: 25.132741228718345\n",
      "Pole pierwszego okregu: 153.93804002589985\n",
      "Pole drugiego okregu: 50.26548245743669\n"
     ]
    }
   ],
   "source": [
    "x = int(input('Podaj promien pierwszego okregu: '))\n",
    "y = int(input('Podaj promien drugiego okregu: '))\n",
    "\n",
    "obwodx = print(f'Obwod pierwszego okregu: {2*pi*x}')\n",
    "obwody = print(f'Obwod drugiego okregu: {2*pi*y}')\n",
    "polex = print(f'Pole pierwszego okregu: {pi*(x**2)}')\n",
    "poley = print(f'Pole drugiego okregu: {pi*(y**2)}')"
   ]
  },
  {
   "cell_type": "code",
   "execution_count": null,
   "metadata": {},
   "outputs": [],
   "source": []
  }
 ],
 "metadata": {
  "kernelspec": {
   "display_name": "Python 3",
   "language": "python",
   "name": "python3"
  },
  "language_info": {
   "codemirror_mode": {
    "name": "ipython",
    "version": 3
   },
   "file_extension": ".py",
   "mimetype": "text/x-python",
   "name": "python",
   "nbconvert_exporter": "python",
   "pygments_lexer": "ipython3",
   "version": "3.7.1"
  }
 },
 "nbformat": 4,
 "nbformat_minor": 2
}
