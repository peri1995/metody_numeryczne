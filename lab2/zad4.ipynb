{
 "cells": [
  {
   "cell_type": "code",
   "execution_count": 1,
   "metadata": {},
   "outputs": [
    {
     "name": "stdout",
     "output_type": "stream",
     "text": [
      "Podaj x: 98\n",
      "Podaj y: 67\n",
      "X jest niepodzielne przez Y(reszta z dzielenia)\n",
      "X/Y: 1.462686567164179\n",
      "X/Y: 1.46\n"
     ]
    }
   ],
   "source": [
    "x = int(input('Podaj x: '))\n",
    "y = int(input('Podaj y: '))\n",
    "\n",
    "dzielenie = 'X jest podzielne przez Y' if x%y == 0 else 'X jest niepodzielne przez Y(reszta z dzielenia)'\n",
    "print(dzielenie)\n",
    "print(f'X/Y: {x/y}')\n",
    "print(f'X/Y: {round(x/y, 2)}')"
   ]
  },
  {
   "cell_type": "code",
   "execution_count": null,
   "metadata": {},
   "outputs": [],
   "source": []
  }
 ],
 "metadata": {
  "kernelspec": {
   "display_name": "Python 3",
   "language": "python",
   "name": "python3"
  },
  "language_info": {
   "codemirror_mode": {
    "name": "ipython",
    "version": 3
   },
   "file_extension": ".py",
   "mimetype": "text/x-python",
   "name": "python",
   "nbconvert_exporter": "python",
   "pygments_lexer": "ipython3",
   "version": "3.7.1"
  }
 },
 "nbformat": 4,
 "nbformat_minor": 2
}
