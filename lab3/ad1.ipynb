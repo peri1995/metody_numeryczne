{
 "cells": [
  {
   "cell_type": "code",
   "execution_count": 1,
   "metadata": {},
   "outputs": [
    {
     "name": "stdout",
     "output_type": "stream",
     "text": [
      "dziala\n"
     ]
    }
   ],
   "source": [
    "print('dziala')"
   ]
  },
  {
   "cell_type": "code",
   "execution_count": 7,
   "metadata": {},
   "outputs": [
    {
     "name": "stdout",
     "output_type": "stream",
     "text": [
      "\n",
      "        Podaj typ figury:\n",
      "\n",
      "        1 - kolo\n",
      "        2 - prostokat\n",
      "        3 - trojkat\n",
      "        4 - romb\n",
      "\n",
      "        5 - koniec\n",
      "        \n",
      "4\n",
      "\n",
      "Wybrano romb\n",
      "\n",
      "Podaj pierwsza przekatna: 5\n",
      "\n",
      "Podaj druga przekatna: 7\n",
      "\n",
      "Pole wynosi: 17.5\n",
      "\n",
      "        Podaj typ figury:\n",
      "\n",
      "        1 - kolo\n",
      "        2 - prostokat\n",
      "        3 - trojkat\n",
      "        4 - romb\n",
      "\n",
      "        5 - koniec\n",
      "        \n",
      "5\n"
     ]
    }
   ],
   "source": [
    "import numpy as np\n",
    "from math import *\n",
    "\n",
    "def countField():\n",
    "    odp = True\n",
    "    while odp: \n",
    "        print('''\n",
    "        Podaj typ figury:\n",
    "\n",
    "        1 - kolo\n",
    "        2 - prostokat\n",
    "        3 - trojkat\n",
    "        4 - romb\n",
    "\n",
    "        5 - koniec\n",
    "        ''')\n",
    "        odp = input()\n",
    "        \n",
    "        if odp == '1':\n",
    "            print('\\nWybrano kolo')\n",
    "            try:\n",
    "                x = float(input('\\nPodaj promien: '))\n",
    "                if x < 0:\n",
    "                    print('\\nPodano ujemna!')\n",
    "                else:\n",
    "                    pole = pi*(x**2)\n",
    "                    print('\\nPole wynosi:', pole)\n",
    "            except ValueError:\n",
    "                print('\\nWprowadzono zly znak!')\n",
    "        elif odp == '2':\n",
    "            print('\\nWybrano prostokat')\n",
    "            try:\n",
    "                x = float(input('\\nPodaj pierwszy bok: '))\n",
    "                y = float(input('\\nPodaj drugi bok: '))\n",
    "                if x < 0:\n",
    "                    print('\\nPodano ujemna!')\n",
    "                elif y < 0:\n",
    "                    print('\\nPodano ujemna!')\n",
    "                else:\n",
    "                    pole = x*y\n",
    "                    print('\\nPole wynosi:', pole)\n",
    "            except ValueError:\n",
    "                print('\\nWprowadzono zly znak!')\n",
    "        elif odp == '3':\n",
    "            print('\\nWybrano trojkat')\n",
    "            try:\n",
    "                x = float(input('\\nPodaj podstawe: '))\n",
    "                y = float(input('\\nPodaj wysokosc: '))\n",
    "                if x < 0:\n",
    "                    print('\\nPodano ujemna!')\n",
    "                elif y < 0:\n",
    "                    print('\\nPodano ujemna!')\n",
    "                else:\n",
    "                    pole = (x*y)/2\n",
    "                    print('\\nPole wynosi:', pole)\n",
    "            except ValueError:\n",
    "                print('\\nWprowadzono zly znak!')\n",
    "        elif odp == '4':\n",
    "            print('\\nWybrano romb')\n",
    "            try:\n",
    "                x = float(input('\\nPodaj pierwsza przekatna: '))\n",
    "                y = float(input('\\nPodaj druga przekatna: '))\n",
    "                if x < 0:\n",
    "                    print('\\nPodano ujemna!')\n",
    "                elif y < 0:\n",
    "                    print('\\nPodano ujemna!')\n",
    "                else:\n",
    "                    pole = (x*y)/2\n",
    "                    print('\\nPole wynosi:', pole)\n",
    "            except ValueError:\n",
    "                print('\\nWprowadzono zly znak!')\n",
    "        elif odp == '5':\n",
    "            odp = False\n",
    "        else:\n",
    "            print('\\nZly znak!')\n",
    "\n",
    "countField()"
   ]
  },
  {
   "cell_type": "code",
   "execution_count": null,
   "metadata": {},
   "outputs": [],
   "source": []
  }
 ],
 "metadata": {
  "kernelspec": {
   "display_name": "Python 3",
   "language": "python",
   "name": "python3"
  },
  "language_info": {
   "codemirror_mode": {
    "name": "ipython",
    "version": 3
   },
   "file_extension": ".py",
   "mimetype": "text/x-python",
   "name": "python",
   "nbconvert_exporter": "python",
   "pygments_lexer": "ipython3",
   "version": "3.7.1"
  }
 },
 "nbformat": 4,
 "nbformat_minor": 2
}
